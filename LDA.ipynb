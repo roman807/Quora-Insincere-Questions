{
 "cells": [
  {
   "cell_type": "markdown",
   "metadata": {},
   "source": [
    "### Quora Insincere Questions: Latent Dirichlet allocation (LDA)"
   ]
  },
  {
   "cell_type": "markdown",
   "metadata": {},
   "source": [
    "Latent dirichlet allocation (LDA) is a generative statistical model to classify documents based on topics that the model identified in the corpus. It follows the idea that each document that each document consists of a mix of a small number of topics and that each word's presence is attributable to one of the document's topics. \n",
    "\n",
    "In this notebook, I perform LDA on the training data with 2 topics to see if the generated topics might be helpful in identifying regular vs insincere questions."
   ]
  },
  {
   "cell_type": "code",
   "execution_count": 1,
   "metadata": {},
   "outputs": [],
   "source": [
    "import pandas as pd\n",
    "import numpy as np\n",
    "import matplotlib.pyplot as plt\n",
    "from gensim.corpora.dictionary import Dictionary\n",
    "from gensim.parsing.preprocessing import remove_stopwords\n",
    "from pylab import rcParams\n",
    "from gensim.models.ldamodel import LdaModel\n",
    "import os\n",
    "os.chdir('/home/roman/Documents/Projects/Quora/data')"
   ]
  },
  {
   "cell_type": "code",
   "execution_count": 2,
   "metadata": {},
   "outputs": [],
   "source": [
    "# load and prepare data:\n",
    "train_data = pd.read_csv('train.csv')\n",
    "docs_df = train_data['question_text']\n",
    "# remove stopwords words and tokenize:\n",
    "docs_df = docs_df.apply(remove_stopwords)\n",
    "docs_list = docs_df.tolist()\n",
    "# take out frequent words with no meaning (from exploratory analysis)\n",
    "freq_word_list = ['what', 'i', 'how', 'why', 'is', 'can', 'do', 'like','which', \\\n",
    "                  'if', 'are', 'think', 'does', 'who', 'use', 'way', 'know', 'where',\\\n",
    "                  'want', 'it', 'should', 'when', \"what's\", \"don't\", \"i'm\", 'in']\n",
    "texts = [[word for word in document.lower().replace(\"?\", \"\").split() \n",
    "         if word not in freq_word_list] for document in docs_list]"
   ]
  },
  {
   "cell_type": "code",
   "execution_count": 3,
   "metadata": {},
   "outputs": [],
   "source": [
    "# create dictionary and train LDA model:\n",
    "dct = Dictionary(texts)\n",
    "corpus = [dct.doc2bow(text) for text in texts]\n",
    "lda = LdaModel(corpus, num_topics=2, id2word=dct)"
   ]
  },
  {
   "cell_type": "code",
   "execution_count": 4,
   "metadata": {},
   "outputs": [
    {
     "name": "stdout",
     "output_type": "stream",
     "text": [
      "Topic: 0 \n",
      "Words: 0.012*\"people\" + 0.005*\"time\" + 0.005*\"life\" + 0.004*\"feel\" + 0.004*\"person\" + 0.004*\"good\" + 0.003*\"year\" + 0.003*\"mean\" + 0.003*\"years\" + 0.003*\"women\"\n",
      "Topic: 1 \n",
      "Words: 0.015*\"best\" + 0.007*\"india\" + 0.006*\"good\" + 0.004*\"quora\" + 0.003*\"work\" + 0.003*\"difference\" + 0.003*\"new\" + 0.003*\"job\" + 0.003*\"us\" + 0.003*\"learn\"\n"
     ]
    }
   ],
   "source": [
    "# Evaluate LDA topics\n",
    "for idx, topic in lda.print_topics(-1):\n",
    "    print('Topic: {} \\nWords: {}'.format(idx, topic))"
   ]
  },
  {
   "cell_type": "markdown",
   "metadata": {},
   "source": [
    "The topic analysis above shows which words contribute how much to the LDA classification to either topic (0 or 1). Looking at the words, and keeping the most frequent words from \"exploration.ipynb\" in mind, it is not obvious that either one of the topics is more likely associated with insincere questions than the other."
   ]
  },
  {
   "cell_type": "code",
   "execution_count": 5,
   "metadata": {},
   "outputs": [],
   "source": [
    "# Add a column for topic to data frame:\n",
    "topic = []\n",
    "for text in corpus:\n",
    "    if lda[text][0][1] > 0.5:\n",
    "        topic.append(0)\n",
    "    else:\n",
    "        topic.append(1)\n",
    "train_data['topic'] = topic"
   ]
  },
  {
   "cell_type": "code",
   "execution_count": 6,
   "metadata": {},
   "outputs": [
    {
     "data": {
      "image/png": "[encoded data removed]",
      "text/plain": [
       "<Figure size 576x360 with 1 Axes>"
      ]
     },
     "metadata": {
      "needs_background": "light"
     },
     "output_type": "display_data"
    }
   ],
   "source": [
    "# Plot distribution of topic by regular vs insincere questions:\n",
    "topic0_regular = sum(np.logical_and(train_data['target']==0, train_data['topic']==0))\\\n",
    "    / train_data.shape[0]\n",
    "topic0_insincere = sum(np.logical_and(train_data['target']==1, train_data['topic']==0))\\\n",
    "    / train_data.shape[0]\n",
    "topic1_regular = sum(np.logical_and(train_data['target']==0, train_data['topic']==1))\\\n",
    "    / train_data.shape[0]\n",
    "topic1_insincere = sum(np.logical_and(train_data['target']==1, train_data['topic']==1))\\\n",
    "    / train_data.shape[0]\n",
    "df = pd.DataFrame(np.array([[topic0_regular, topic0_insincere], [topic1_regular, topic1_insincere]]),\\\n",
    "               columns=['regular', 'insincere'], index=['topic 0', 'topic 1'])\n",
    "rcParams['figure.figsize'] = 8, 5\n",
    "df.plot.bar(stacked=True, alpha=0.8)\n",
    "plt.grid()\n",
    "plt.title('Regular and insincere questions by topic')\n",
    "plt.show()"
   ]
  },
  {
   "cell_type": "markdown",
   "metadata": {},
   "source": [
    "The plot above shows that LDA classified the majority of insincere questions as \"topic 0\". However, the topics 0 and 1 do not clearly separate regular from insincere questions as we are dealing with an inbalanced dataset and LDA splits the dataset into two classes of roughly equal size."
   ]
  }
 ],
 "metadata": {
  "kernelspec": {
   "display_name": "Python 3",
   "language": "python",
   "name": "python3"
  },
  "language_info": {
   "codemirror_mode": {
    "name": "ipython",
    "version": 3
   },
   "file_extension": ".py",
   "mimetype": "text/x-python",
   "name": "python",
   "nbconvert_exporter": "python",
   "pygments_lexer": "ipython3",
   "version": "3.6.6"
  }
 },
 "nbformat": 4,
 "nbformat_minor": 2
}
